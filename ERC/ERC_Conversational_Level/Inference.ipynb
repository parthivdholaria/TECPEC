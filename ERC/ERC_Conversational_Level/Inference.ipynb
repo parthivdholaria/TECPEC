{
 "cells": [
  {
   "cell_type": "code",
   "execution_count": 1,
   "metadata": {},
   "outputs": [],
   "source": [
    "import json\n",
    "import torch\n",
    "import torch.nn as nn\n",
    "from torch.utils.data import DataLoader, Dataset\n",
    "from transformers import GPT2Model, GPT2PreTrainedModel\n",
    "import pickle\n",
    "from tqdm import tqdm\n",
    "from sklearn.metrics import classification_report, confusion_matrix\n",
    "import seaborn as sns\n",
    "import matplotlib.pyplot as plt"
   ]
  },
  {
   "cell_type": "code",
   "execution_count": 2,
   "metadata": {},
   "outputs": [],
   "source": [
    "# Source: https://github.com/LCS2-IIITD/Emotion-Flip-Reasoning/blob/main/Dataloaders/nlp_utils.py\n",
    "import string\n",
    "import nltk\n",
    "import re\n",
    "\n",
    "numbers = {\n",
    "    \"0\":\"zero\",\n",
    "    \"1\":\"one\",\n",
    "    \"2\":\"two\",\n",
    "    \"3\":\"three\",\n",
    "    \"4\":\"four\",\n",
    "    \"5\":\"five\",\n",
    "    \"6\":\"six\",\n",
    "    \"7\":\"seven\",\n",
    "    \"8\":\"eight\",\n",
    "    \"9\":\"nine\"\n",
    "}\n",
    "\n",
    "def remove_puntuations(txt):\n",
    "    punct = set(string.punctuation)\n",
    "    txt = \" \".join(txt.split(\".\"))\n",
    "    txt = \" \".join(txt.split(\"!\"))\n",
    "    txt = \" \".join(txt.split(\"?\"))\n",
    "    txt = \" \".join(txt.split(\":\"))\n",
    "    txt = \" \".join(txt.split(\";\"))\n",
    "    \n",
    "    txt = \"\".join(ch for ch in txt if ch not in punct)\n",
    "    return txt\n",
    "\n",
    "def number_to_words(txt):\n",
    "    for k in numbers.keys():\n",
    "        txt = txt.replace(k,numbers[k]+\" \")\n",
    "    return txt\n",
    "\n",
    "def preprocess_text(text):\n",
    "    text = text.lower()\n",
    "    text = re.sub(r'_',' ',text)\n",
    "    text = number_to_words(text)\n",
    "    text = remove_puntuations(text)\n",
    "    text = ''.join([i if ord(i) < 128 else '' for i in text])\n",
    "    text = ' '.join(text.split())\n",
    "    return text"
   ]
  },
  {
   "cell_type": "code",
   "execution_count": 3,
   "metadata": {},
   "outputs": [],
   "source": [
    "val_data = json.load(open('../../Dataset/ERC_conversational_level/val_conversation_level.json'))\n",
    "val_data_pred = val_data.copy()\n",
    "\n",
    "test_data = json.load(open('../../Dataset/ERC_conversational_level/test_conversation_level.json'))\n",
    "test_data_pred = test_data.copy()"
   ]
  },
  {
   "cell_type": "code",
   "execution_count": 4,
   "metadata": {},
   "outputs": [
    {
     "data": {
      "text/plain": [
       "device(type='cpu')"
      ]
     },
     "execution_count": 4,
     "metadata": {},
     "output_type": "execute_result"
    }
   ],
   "source": [
    "device = torch.device(\"cuda\" if torch.cuda.is_available() else \"cpu\")\n",
    "device"
   ]
  },
  {
   "cell_type": "code",
   "execution_count": 5,
   "metadata": {},
   "outputs": [],
   "source": [
    "emotion2int = {\n",
    "    'anger': 0,\n",
    "    'joy': 1,\n",
    "    'fear': 2,\n",
    "    'disgust': 3,\n",
    "    'neutral': 4,\n",
    "    'surprise': 5,\n",
    "    'sadness': 6\n",
    "}\n",
    "int2emotion = {v: k for k, v in emotion2int.items()}"
   ]
  },
  {
   "cell_type": "code",
   "execution_count": 6,
   "metadata": {},
   "outputs": [],
   "source": [
    "utterance2vec = pickle.load(open('../../Dataset/Embeddings/sentence_transformer_utterance2vec_768.pkl', 'rb'))"
   ]
  },
  {
   "cell_type": "code",
   "execution_count": 7,
   "metadata": {},
   "outputs": [],
   "source": [
    "MAX_CONV_LEN = 35\n",
    "# Defined index 7 for padding\n",
    "class ERC_Dataset_Conv_Level_Inference(Dataset):\n",
    "    def __init__(self, data, utterance2vec, testing=False):\n",
    "        self.data = data\n",
    "        self.utterance2vec = utterance2vec\n",
    "        self.testing = testing\n",
    "\n",
    "    def __len__(self):\n",
    "        return len(self.data)\n",
    "\n",
    "    def __getitem__(self, idx):\n",
    "        conversation = self.data[idx]['conversation']\n",
    "        texts = [utterance['text'] for utterance in conversation]\n",
    "        if not self.testing:\n",
    "            emotions = [emotion2int[utterance['emotion']] for utterance in conversation]\n",
    "        text_embeddings = [torch.from_numpy(self.utterance2vec[preprocess_text(text)]) for text in texts]\n",
    "                \n",
    "        if(len(text_embeddings)<MAX_CONV_LEN):\n",
    "            num_pads = MAX_CONV_LEN - len(text_embeddings)\n",
    "            attention_mask = [1]*len(text_embeddings) + [0]*num_pads\n",
    "            text_embeddings = text_embeddings + [torch.zeros(768)]*num_pads\n",
    "            if not self.testing:\n",
    "                emotions = emotions + [7]*num_pads # 7 is the index for padding\n",
    "        else:\n",
    "            text_embeddings = text_embeddings[len(text_embeddings)-MAX_CONV_LEN:]\n",
    "            attention_mask = [1]*MAX_CONV_LEN\n",
    "            if not self.testing:\n",
    "                emotions = emotions[len(emotions)-MAX_CONV_LEN:]\n",
    "\n",
    "        text_embeddings = torch.stack(text_embeddings)\n",
    "        attention_mask = torch.tensor(attention_mask)\n",
    "        if not self.testing:\n",
    "            emotions = torch.tensor(emotions)\n",
    "\n",
    "            return {\n",
    "                'text_embeddings': text_embeddings,\n",
    "                'attention_mask': attention_mask,\n",
    "                'emotions': emotions,\n",
    "                'conversation_ID': self.data[idx]['conversation_ID']\n",
    "            }\n",
    "        \n",
    "        return {\n",
    "            'text_embeddings': text_embeddings,\n",
    "            'attention_mask': attention_mask,\n",
    "            'conversation_ID': self.data[idx]['conversation_ID']\n",
    "        }"
   ]
  },
  {
   "cell_type": "code",
   "execution_count": 8,
   "metadata": {},
   "outputs": [],
   "source": [
    "class ERC_GPT2(GPT2PreTrainedModel):\n",
    "    def __init__(self, config, weights):\n",
    "        super().__init__(config)\n",
    "        self.num_labels = config.num_labels\n",
    "        self.GPT2 = GPT2Model(config)\n",
    "        self.classifier = nn.Linear(config.n_embd, self.num_labels)\n",
    "        self.weights = weights\n",
    "        self.post_init()\n",
    "        \n",
    "\n",
    "    def forward(self, inputs_embeds, attention_mask, labels=None, device='cpu'):\n",
    "        outputs = self.GPT2(inputs_embeds=inputs_embeds, attention_mask=attention_mask)\n",
    "        outputs = outputs.last_hidden_state\n",
    "        logits, label = {}, {}\n",
    "        for b in range(outputs.size(0)):\n",
    "            logits[b] = [self.classifier(outputs[b][i]) for i in range(outputs.size(1)) if attention_mask[b][i] == 1]\n",
    "            if(labels is not None):\n",
    "                label[b] = [labels[b][i] for i in range(outputs.size(1)) if attention_mask[b][i] == 1]\n",
    "        logits = [torch.stack(logits[b]) for b in range(outputs.size(0))]\n",
    "        loss = None\n",
    "        if labels is not None:\n",
    "            label = [torch.stack(label[b]) for b in range(outputs.size(0))]\n",
    "            loss = 0\n",
    "            for b in range(outputs.size(0)):\n",
    "                loss += nn.CrossEntropyLoss(weight=self.weights.to(device))(logits[b].to(device), label[b].to(device))\n",
    "            loss /= outputs.size(0)\n",
    "        return {\n",
    "            'loss': loss,\n",
    "            'logits': logits,\n",
    "            'labels': label   \n",
    "        }"
   ]
  },
  {
   "cell_type": "code",
   "execution_count": 9,
   "metadata": {},
   "outputs": [],
   "source": [
    "model = torch.load('GPT2_Conv_Level.pth', map_location=device)"
   ]
  },
  {
   "cell_type": "code",
   "execution_count": 10,
   "metadata": {},
   "outputs": [],
   "source": [
    "val_dataset = ERC_Dataset_Conv_Level_Inference(val_data, utterance2vec, testing=False)\n",
    "val_loader = DataLoader(val_dataset, batch_size=1, shuffle=False)\n",
    "\n",
    "test_dataset = ERC_Dataset_Conv_Level_Inference(test_data, utterance2vec, testing=True)\n",
    "test_loader = DataLoader(test_dataset, batch_size=1, shuffle=False)"
   ]
  },
  {
   "cell_type": "markdown",
   "metadata": {},
   "source": [
    "### Inference on Validation"
   ]
  },
  {
   "cell_type": "code",
   "execution_count": 11,
   "metadata": {},
   "outputs": [
    {
     "name": "stderr",
     "output_type": "stream",
     "text": [
      "100%|██████████| 138/138 [00:10<00:00, 12.88it/s]"
     ]
    },
    {
     "name": "stdout",
     "output_type": "stream",
     "text": [
      "Val Report: \n",
      "              precision    recall  f1-score   support\n",
      "\n",
      "       anger       0.27      0.26      0.26       192\n",
      "         joy       0.41      0.56      0.47       254\n",
      "        fear       0.11      0.24      0.15        37\n",
      "     disgust       0.07      0.21      0.11        42\n",
      "     neutral       0.57      0.32      0.41       630\n",
      "    surprise       0.32      0.42      0.36       184\n",
      "     sadness       0.28      0.31      0.30       136\n",
      "\n",
      "    accuracy                           0.36      1475\n",
      "   macro avg       0.29      0.33      0.30      1475\n",
      "weighted avg       0.42      0.36      0.37      1475\n",
      "\n"
     ]
    },
    {
     "name": "stderr",
     "output_type": "stream",
     "text": [
      "\n"
     ]
    }
   ],
   "source": [
    "model.eval()\n",
    "val_pred, val_true = [], []\n",
    "with torch.no_grad():\n",
    "    for batch in tqdm(val_loader):\n",
    "        text_embeddings, attention_mask, emotions = batch['text_embeddings'].to(device), batch['attention_mask'].to(device), batch['emotions'].to(device)\n",
    "        outputs = model(inputs_embeds=text_embeddings, attention_mask=attention_mask, labels=emotions)\n",
    "        loss = outputs['loss']\n",
    "        for b in range(len(outputs['logits'])):\n",
    "            val_pred.extend(torch.argmax(outputs['logits'][b], 1).tolist())\n",
    "            val_true.extend(outputs['labels'][b].tolist())\n",
    "            \n",
    "val_report = classification_report(val_true, val_pred, target_names=emotion2int.keys(), zero_division=0)\n",
    "\n",
    "val_report_dict = classification_report(val_true, val_pred, target_names=emotion2int.keys(), output_dict=True, zero_division=0)\n",
    "print(f\"Val Report: \\n{val_report}\")"
   ]
  },
  {
   "cell_type": "code",
   "execution_count": 12,
   "metadata": {},
   "outputs": [],
   "source": [
    "count = 0\n",
    "for i in range(len(val_data_pred)):\n",
    "    for j in range(len(val_data_pred[i]['conversation'])):\n",
    "        val_data_pred[i]['conversation'][j]['emotion'] = int2emotion[val_pred[count]]\n",
    "        count += 1"
   ]
  },
  {
   "cell_type": "code",
   "execution_count": 13,
   "metadata": {},
   "outputs": [],
   "source": [
    "json.dump(val_data_pred, open('val_conversation_level_pred.json', 'w'), indent=4)"
   ]
  },
  {
   "cell_type": "code",
   "execution_count": 14,
   "metadata": {},
   "outputs": [
    {
     "data": {
      "image/png": "[encoded data removed]",
      "text/plain": [
       "<Figure size 640x480 with 2 Axes>"
      ]
     },
     "metadata": {},
     "output_type": "display_data"
    }
   ],
   "source": [
    "# confusion matrix\n",
    "cm = confusion_matrix(val_true, val_pred)\n",
    "sns.heatmap(cm, annot=True, fmt='d', xticklabels=emotion2int.keys(), yticklabels=emotion2int.keys())\n",
    "plt.xlabel('Predicted')\n",
    "plt.ylabel('True')\n",
    "plt.title('Confusion Matrix')\n",
    "plt.show()"
   ]
  },
  {
   "cell_type": "markdown",
   "metadata": {},
   "source": [
    "### Inference on Testing"
   ]
  },
  {
   "cell_type": "code",
   "execution_count": 15,
   "metadata": {},
   "outputs": [
    {
     "name": "stderr",
     "output_type": "stream",
     "text": [
      "100%|██████████| 665/665 [00:51<00:00, 13.03it/s]\n"
     ]
    }
   ],
   "source": [
    "model.eval()\n",
    "test_pred = []\n",
    "with torch.no_grad():\n",
    "    for batch in tqdm(test_loader):\n",
    "        text_embeddings, attention_mask = batch['text_embeddings'].to(device), batch['attention_mask'].to(device)\n",
    "        outputs = model(inputs_embeds=text_embeddings, attention_mask=attention_mask, labels=None)\n",
    "        for b in range(len(outputs['logits'])):\n",
    "            test_pred.extend(torch.argmax(outputs['logits'][b], 1).tolist())"
   ]
  },
  {
   "cell_type": "code",
   "execution_count": 16,
   "metadata": {},
   "outputs": [],
   "source": [
    "count = 0\n",
    "for i in range(len(test_data_pred)):\n",
    "    for j in range(len(test_data_pred[i]['conversation'])):\n",
    "        test_data_pred[i]['conversation'][j]['emotion'] = int2emotion[test_pred[count]]\n",
    "        count += 1"
   ]
  },
  {
   "cell_type": "code",
   "execution_count": 17,
   "metadata": {},
   "outputs": [],
   "source": [
    "json.dump(test_data_pred, open('test_conversation_level_pred.json', 'w'), indent=4)"
   ]
  }
 ],
 "metadata": {
  "kernelspec": {
   "display_name": "TECPEC",
   "language": "python",
   "name": "python3"
  },
  "language_info": {
   "codemirror_mode": {
    "name": "ipython",
    "version": 3
   },
   "file_extension": ".py",
   "mimetype": "text/x-python",
   "name": "python",
   "nbconvert_exporter": "python",
   "pygments_lexer": "ipython3",
   "version": "3.12.2"
  }
 },
 "nbformat": 4,
 "nbformat_minor": 2
}
