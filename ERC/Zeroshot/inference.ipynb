{
 "cells": [
  {
   "cell_type": "code",
   "execution_count": 16,
   "metadata": {},
   "outputs": [
    {
     "name": "stdout",
     "output_type": "stream",
     "text": [
      "train.csv file created successfully\n"
     ]
    }
   ],
   "source": [
    "# Prepare the train_csv file just like the val_data.csv\n",
    "import json\n",
    "\n",
    "train_data = json.load(open('/Users/parthivdholaria/Desktop/PARTHIV/IIIT DELHI/SEM6/NLP/NLP-Project/Dataset/Original_Dataset/Subtask_1_train.json'))\n",
    "\n",
    "rows = []\n",
    "\n",
    "for conversation in train_data:\n",
    "    \n",
    "    conversation_id = conversation[\"conversation_ID\"]\n",
    "    list_of_utterances = conversation[\"conversation\"]\n",
    "    \n",
    "    for utterance in list_of_utterances:\n",
    "        \n",
    "        utterance_id = utterance[\"utterance_ID\"]\n",
    "        speaker = utterance[\"speaker\"]\n",
    "        utterance_text = utterance[\"text\"]\n",
    "        emotion = utterance[\"emotion\"]\n",
    "        \n",
    "        rows.append([conversation_id, utterance_id, speaker, utterance_text,emotion])\n",
    "\n",
    "\n",
    "# prepare the train.csv file\n",
    "\n",
    "import csv\n",
    "\n",
    "with open('/Users/parthivdholaria/Desktop/PARTHIV/IIIT DELHI/SEM6/NLP/NLP-Project/ERC/Zeroshot/train_few_shots.csv', 'w') as f:\n",
    "    writer = csv.writer(f)\n",
    "    writer.writerow([\"conversation_id\", \"utterance_id\", \"speaker\", \"utterance_text\", \"emotion\"])\n",
    "    writer.writerows(rows)\n",
    "    \n",
    "print(\"train.csv file created successfully\")"
   ]
  },
  {
   "cell_type": "code",
   "execution_count": 17,
   "metadata": {},
   "outputs": [
    {
     "name": "stdout",
     "output_type": "stream",
     "text": [
      "0.5803389830508474\n",
      "0.5312296521608368\n"
     ]
    }
   ],
   "source": [
    "# load the two csv files \n",
    "import pandas as pd\n",
    "\n",
    "df_pred = pd.read_csv('/Users/parthivdholaria/Desktop/PARTHIV/IIIT DELHI/SEM6/NLP/NLP-Project/ERC/Zeroshot/few_shots_with_training.csv')\n",
    "df_gt = pd.read_csv('/Users/parthivdholaria/Desktop/PARTHIV/IIIT DELHI/SEM6/NLP/NLP-Project/ERC/Zeroshot/val_data_gt.csv')\n",
    "\n",
    "# Calculate the accuracy of the emotion column of both the dataframes\n",
    "\n",
    "def calculate_accuracy(df_pred, df_gt):\n",
    "    count = 0\n",
    "    for i in range(len(df_pred)):\n",
    "        if df_pred['Emotion'][i] == df_gt['Emotion'][i]:\n",
    "            count += 1\n",
    "    return count/len(df_pred)\n",
    "\n",
    "accuracy = calculate_accuracy(df_pred, df_gt)\n",
    "print(accuracy)\n",
    "\n",
    "# Calculate the F1 score of the emotion column of both the dataframes\n",
    "from sklearn.metrics import f1_score\n",
    "f1 = f1_score(df_gt['Emotion'], df_pred['Emotion'], average='weighted')\n",
    "print(f1)"
   ]
  }
 ],
 "metadata": {
  "kernelspec": {
   "display_name": "Python 3",
   "language": "python",
   "name": "python3"
  },
  "language_info": {
   "codemirror_mode": {
    "name": "ipython",
    "version": 3
   },
   "file_extension": ".py",
   "mimetype": "text/x-python",
   "name": "python",
   "nbconvert_exporter": "python",
   "pygments_lexer": "ipython3",
   "version": "3.11.8"
  }
 },
 "nbformat": 4,
 "nbformat_minor": 2
}
