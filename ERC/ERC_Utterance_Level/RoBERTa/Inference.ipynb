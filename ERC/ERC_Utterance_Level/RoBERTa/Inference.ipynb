{
 "cells": [
  {
   "cell_type": "code",
   "execution_count": 1,
   "metadata": {},
   "outputs": [],
   "source": [
    "import json\n",
    "import torch\n",
    "import torch.nn as nn\n",
    "from torch.utils.data import DataLoader, Dataset\n",
    "from tqdm import tqdm\n",
    "from sklearn.metrics import classification_report, confusion_matrix\n",
    "from transformers import RobertaPreTrainedModel, RobertaModel\n",
    "import pickle\n",
    "import seaborn as sns\n",
    "import matplotlib.pyplot as plt"
   ]
  },
  {
   "cell_type": "code",
   "execution_count": 2,
   "metadata": {},
   "outputs": [],
   "source": [
    "# Source: https://github.com/LCS2-IIITD/Emotion-Flip-Reasoning/blob/main/Dataloaders/nlp_utils.py\n",
    "import string\n",
    "import nltk\n",
    "import re\n",
    "\n",
    "numbers = {\n",
    "    \"0\":\"zero\",\n",
    "    \"1\":\"one\",\n",
    "    \"2\":\"two\",\n",
    "    \"3\":\"three\",\n",
    "    \"4\":\"four\",\n",
    "    \"5\":\"five\",\n",
    "    \"6\":\"six\",\n",
    "    \"7\":\"seven\",\n",
    "    \"8\":\"eight\",\n",
    "    \"9\":\"nine\"\n",
    "}\n",
    "\n",
    "def remove_puntuations(txt):\n",
    "    punct = set(string.punctuation)\n",
    "    txt = \" \".join(txt.split(\".\"))\n",
    "    txt = \" \".join(txt.split(\"!\"))\n",
    "    txt = \" \".join(txt.split(\"?\"))\n",
    "    txt = \" \".join(txt.split(\":\"))\n",
    "    txt = \" \".join(txt.split(\";\"))\n",
    "    \n",
    "    txt = \"\".join(ch for ch in txt if ch not in punct)\n",
    "    return txt\n",
    "\n",
    "def number_to_words(txt):\n",
    "    for k in numbers.keys():\n",
    "        txt = txt.replace(k,numbers[k]+\" \")\n",
    "    return txt\n",
    "\n",
    "def preprocess_text(text):\n",
    "    text = text.lower()\n",
    "    text = re.sub(r'_',' ',text)\n",
    "    text = number_to_words(text)\n",
    "    text = remove_puntuations(text)\n",
    "    text = ''.join([i if ord(i) < 128 else '' for i in text])\n",
    "    text = ' '.join(text.split())\n",
    "    return text"
   ]
  },
  {
   "cell_type": "code",
   "execution_count": 3,
   "metadata": {},
   "outputs": [],
   "source": [
    "val_data_utt = json.load(open('../../../Dataset/ERC_utterance_level/val_utterance_level.json'))\n",
    "test_data_utt = json.load(open('../../../Dataset/ERC_utterance_level/test_utterance_level.json'))\n",
    "\n",
    "val_data_conv_pred = json.load(open('../../../Dataset/ERC_conversational_level/val_conversation_level.json'))\n",
    "test_data_conv_pred = json.load(open('../../../Dataset/ERC_conversational_level/test_conversation_level.json'))"
   ]
  },
  {
   "cell_type": "code",
   "execution_count": 4,
   "metadata": {},
   "outputs": [
    {
     "data": {
      "text/plain": [
       "device(type='cpu')"
      ]
     },
     "execution_count": 4,
     "metadata": {},
     "output_type": "execute_result"
    }
   ],
   "source": [
    "device = torch.device(\"cuda\" if torch.cuda.is_available() else \"cpu\")\n",
    "device"
   ]
  },
  {
   "cell_type": "code",
   "execution_count": 5,
   "metadata": {},
   "outputs": [],
   "source": [
    "emotion2int = {\n",
    "    'anger': 0,\n",
    "    'joy': 1,\n",
    "    'fear': 2,\n",
    "    'disgust': 3,\n",
    "    'neutral': 4,\n",
    "    'surprise': 5,\n",
    "    'sadness': 6\n",
    "}\n",
    "int2emotion = {v: k for k, v in emotion2int.items()}"
   ]
  },
  {
   "cell_type": "code",
   "execution_count": 6,
   "metadata": {},
   "outputs": [],
   "source": [
    "utterance2vec = pickle.load(open('../../../Dataset/Embeddings/sentence_transformer_utterance2vec_768.pkl', 'rb'))"
   ]
  },
  {
   "cell_type": "code",
   "execution_count": 7,
   "metadata": {},
   "outputs": [],
   "source": [
    "MAX_CONV_LEN = 35\n",
    "# Defined index 7 for padding\n",
    "class ERC_Dataset_Utt_Level_Inference(Dataset):\n",
    "    def __init__(self, data, utterance2vec, testing=False):\n",
    "        self.data = data\n",
    "        self.utterance2vec = utterance2vec\n",
    "        self.testing = testing\n",
    "\n",
    "    def __len__(self):\n",
    "        return len(self.data)\n",
    "\n",
    "    def __getitem__(self, idx):\n",
    "        text = self.data[f'id_{idx+1}']['text']\n",
    "        if not self.testing:\n",
    "            emotion = self.data[f'id_{idx+1}']['emotion']\n",
    "        context = self.data[f'id_{idx+1}']['context']\n",
    "\n",
    "        context_embeddings = [torch.tensor(self.utterance2vec[preprocess_text(utterance)]) for utterance in context]\n",
    "        target_embedding = torch.tensor(self.utterance2vec[preprocess_text(text)])\n",
    "        context_embeddings.append(target_embedding)\n",
    "                \n",
    "        if(len(context_embeddings)<MAX_CONV_LEN):\n",
    "            num_pads = MAX_CONV_LEN - len(context_embeddings)\n",
    "            attention_mask = [1]*len(context_embeddings) + [0]*num_pads\n",
    "            context_embeddings = context_embeddings + [torch.zeros(768)]*num_pads\n",
    "        else:\n",
    "            context_embeddings = context_embeddings[len(context_embeddings)-MAX_CONV_LEN:]\n",
    "            attention_mask = [1]*MAX_CONV_LEN\n",
    "\n",
    "        context_embeddings = torch.stack(context_embeddings)\n",
    "        attention_mask = torch.tensor(attention_mask)\n",
    "\n",
    "        if not self.testing:\n",
    "            return {\n",
    "                'context_embeddings': context_embeddings,\n",
    "                'target_embedding': target_embedding,\n",
    "                'attention_mask': attention_mask,   \n",
    "                'emotion': emotion2int[emotion]\n",
    "            }\n",
    "        \n",
    "        return {\n",
    "            'context_embeddings': context_embeddings,\n",
    "            'target_embedding': target_embedding,\n",
    "            'attention_mask': attention_mask\n",
    "        }"
   ]
  },
  {
   "cell_type": "code",
   "execution_count": 8,
   "metadata": {},
   "outputs": [],
   "source": [
    "class RobertaForSentenceClassificationGivenContext(RobertaPreTrainedModel):\n",
    "    def __init__(self, config,weights):\n",
    "        super().__init__(config)\n",
    "        self.num_labels = config.num_labels\n",
    "        self.config = config\n",
    "        self.weights = weights\n",
    "        self.roberta = RobertaModel(config)\n",
    "        classifier_dropout = (\n",
    "            config.classifier_dropout if config.classifier_dropout is not None else config.hidden_dropout_prob\n",
    "        )\n",
    "        self.dropout = nn.Dropout(classifier_dropout)\n",
    "        self.classifier = nn.Linear(config.hidden_size*2, config.num_labels)\n",
    "        self.post_init()\n",
    "\n",
    "    def forward(self, context_embeds, target_embeds, attention_mask, labels=None,device=\"cpu\"):\n",
    "        output = self.roberta(inputs_embeds=context_embeds, attention_mask=attention_mask)\n",
    "        out_target = [output.last_hidden_state[b][int(sum(attention_mask[b]))-1] for b in range(output.last_hidden_state.shape[0])]\n",
    "        out_target = torch.stack(out_target)\n",
    "        out_target = self.dropout(out_target)\n",
    "        out_target_cat = torch.cat((out_target, target_embeds), 1)\n",
    "        logits = self.classifier(out_target_cat)\n",
    "\n",
    "        loss = None\n",
    "        if labels is not None:\n",
    "            loss_fct = nn.CrossEntropyLoss(weight=self.weights.to(device))\n",
    "            loss = loss_fct(logits.view(-1, self.num_labels).to(device), labels.view(-1).to(device))\n",
    "\n",
    "        return {'loss': loss, 'logits': logits}\n",
    "        "
   ]
  },
  {
   "cell_type": "code",
   "execution_count": 9,
   "metadata": {},
   "outputs": [],
   "source": [
    "val_dataset = ERC_Dataset_Utt_Level_Inference(val_data_utt, utterance2vec)\n",
    "test_dataset = ERC_Dataset_Utt_Level_Inference(test_data_utt, utterance2vec, testing=True)\n",
    "\n",
    "val_loader = DataLoader(val_dataset, batch_size=1, shuffle=False)\n",
    "test_loader = DataLoader(test_dataset, batch_size=1, shuffle=False)"
   ]
  },
  {
   "cell_type": "code",
   "execution_count": 10,
   "metadata": {},
   "outputs": [],
   "source": [
    "model = torch.load('RoBERTa_Utt_Level.pth', map_location=device)"
   ]
  },
  {
   "cell_type": "markdown",
   "metadata": {},
   "source": [
    "### Inference on Validation"
   ]
  },
  {
   "cell_type": "code",
   "execution_count": 11,
   "metadata": {},
   "outputs": [
    {
     "name": "stderr",
     "output_type": "stream",
     "text": [
      "100%|██████████| 1475/1475 [02:44<00:00,  8.95it/s]"
     ]
    },
    {
     "name": "stdout",
     "output_type": "stream",
     "text": [
      "Val Report: \n",
      "              precision    recall  f1-score   support\n",
      "\n",
      "       anger       0.24      0.32      0.27       192\n",
      "         joy       0.33      0.65      0.44       254\n",
      "        fear       0.10      0.22      0.13        37\n",
      "     disgust       0.09      0.31      0.14        42\n",
      "     neutral       0.63      0.17      0.27       630\n",
      "    surprise       0.32      0.38      0.34       184\n",
      "     sadness       0.35      0.29      0.32       136\n",
      "\n",
      "    accuracy                           0.31      1475\n",
      "   macro avg       0.29      0.33      0.27      1475\n",
      "weighted avg       0.43      0.31      0.30      1475\n",
      "\n"
     ]
    },
    {
     "name": "stderr",
     "output_type": "stream",
     "text": [
      "\n"
     ]
    }
   ],
   "source": [
    "model.eval()\n",
    "val_pred, val_true = [], []\n",
    "with torch.no_grad():\n",
    "    for batch in tqdm(val_loader):\n",
    "        context_embeddings, target_embedding, emotions, attention_mask = batch['context_embeddings'].to(device), batch['target_embedding'].to(device), batch['emotion'].to(device), batch['attention_mask'].to(device)\n",
    "        outputs = model(context_embeds=context_embeddings, target_embeds=target_embedding, attention_mask=attention_mask, labels=emotions)\n",
    "        val_pred.extend(torch.argmax(outputs['logits'], 1).tolist())\n",
    "        val_true.extend(emotions.tolist())\n",
    "            \n",
    "val_report = classification_report(val_true, val_pred, target_names=emotion2int.keys(), zero_division=0)\n",
    "val_report_dict = classification_report(val_true, val_pred, target_names=emotion2int.keys(), output_dict=True, zero_division=0)\n",
    "print(f\"Val Report: \\n{val_report}\")"
   ]
  },
  {
   "cell_type": "code",
   "execution_count": 12,
   "metadata": {},
   "outputs": [
    {
     "data": {
      "image/png": "[encoded data removed]",
      "text/plain": [
       "<Figure size 1000x700 with 2 Axes>"
      ]
     },
     "metadata": {},
     "output_type": "display_data"
    }
   ],
   "source": [
    "# Confusion Matrix\n",
    "cm = confusion_matrix(val_true, val_pred)\n",
    "plt.figure(figsize=(10, 7))\n",
    "sns.heatmap(cm, annot=True, fmt='d', xticklabels=emotion2int.keys(), yticklabels=emotion2int.keys())\n",
    "plt.xlabel('Predicted')\n",
    "plt.ylabel('True')\n",
    "plt.show()"
   ]
  },
  {
   "cell_type": "code",
   "execution_count": 13,
   "metadata": {},
   "outputs": [],
   "source": [
    "count = 0\n",
    "for i in range(len(val_data_conv_pred)):\n",
    "    for j in range(len(val_data_conv_pred[i]['conversation'])):\n",
    "        val_data_conv_pred[i]['conversation'][j]['emotion'] = int2emotion[val_pred[count]]\n",
    "        count += 1"
   ]
  },
  {
   "cell_type": "code",
   "execution_count": 14,
   "metadata": {},
   "outputs": [],
   "source": [
    "json.dump(val_data_conv_pred, open('val_conversation_level_pred.json', 'w'), indent=4)"
   ]
  },
  {
   "cell_type": "markdown",
   "metadata": {},
   "source": [
    "### Inference on Testing"
   ]
  },
  {
   "cell_type": "code",
   "execution_count": 15,
   "metadata": {},
   "outputs": [
    {
     "name": "stderr",
     "output_type": "stream",
     "text": [
      "100%|██████████| 6301/6301 [11:20<00:00,  9.26it/s]\n"
     ]
    }
   ],
   "source": [
    "model.eval()\n",
    "test_pred = []\n",
    "with torch.no_grad():\n",
    "    for batch in tqdm(test_loader):\n",
    "        context_embeddings, target_embedding, attention_mask = batch['context_embeddings'].to(device), batch['target_embedding'].to(device), batch['attention_mask'].to(device)\n",
    "        outputs = model(context_embeds=context_embeddings, target_embeds=target_embedding, attention_mask=attention_mask)\n",
    "        test_pred.extend(torch.argmax(outputs['logits'], 1).tolist())"
   ]
  },
  {
   "cell_type": "code",
   "execution_count": 16,
   "metadata": {},
   "outputs": [],
   "source": [
    "count = 0\n",
    "for i in range(len(test_data_conv_pred)):\n",
    "    for j in range(len(test_data_conv_pred[i]['conversation'])):\n",
    "        test_data_conv_pred[i]['conversation'][j]['emotion'] = int2emotion[test_pred[count]]\n",
    "        count += 1"
   ]
  },
  {
   "cell_type": "code",
   "execution_count": 17,
   "metadata": {},
   "outputs": [],
   "source": [
    "json.dump(test_data_conv_pred, open('test_conversation_level_pred.json', 'w'), indent=4)"
   ]
  }
 ],
 "metadata": {
  "kernelspec": {
   "display_name": "TECPEC",
   "language": "python",
   "name": "python3"
  },
  "language_info": {
   "codemirror_mode": {
    "name": "ipython",
    "version": 3
   },
   "file_extension": ".py",
   "mimetype": "text/x-python",
   "name": "python",
   "nbconvert_exporter": "python",
   "pygments_lexer": "ipython3",
   "version": "3.12.2"
  }
 },
 "nbformat": 4,
 "nbformat_minor": 2
}
