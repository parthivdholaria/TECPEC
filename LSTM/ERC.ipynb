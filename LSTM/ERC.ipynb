{
 "cells": [
  {
   "cell_type": "code",
   "execution_count": null,
   "metadata": {},
   "outputs": [],
   "source": [
    "import torch\n",
    "import torch.nn as nn\n",
    "import json\n",
    "import pickle\n",
    "from load_pickel import *\n",
    "from dataset import LSTM_Dataset_ERC\n",
    "from torch.utils.data import DataLoader\n",
    "from model import LSTM_Model_ERC\n",
    "from torch.optim import AdamW\n",
    "from tqdm import tqdm\n",
    "from sklearn.metrics import classification_report\n",
    "import wandb"
   ]
  },
  {
   "cell_type": "code",
   "execution_count": null,
   "metadata": {},
   "outputs": [],
   "source": [
    "device = torch.device(\"cuda\" if torch.cuda.is_available() else \"cpu\")\n",
    "device"
   ]
  },
  {
   "cell_type": "code",
   "execution_count": null,
   "metadata": {},
   "outputs": [],
   "source": [
    "train_data = json.load(open(\"../dataset/train.json\"))\n",
    "test_data = json.load(open(\"../dataset/test.json\"))\n",
    "val_data = json.load(open(\"../dataset/val.json\"))"
   ]
  },
  {
   "cell_type": "code",
   "execution_count": null,
   "metadata": {},
   "outputs": [],
   "source": [
    "train_dataset = LSTM_Dataset_ERC(train_data)\n",
    "val_dataset = LSTM_Dataset_ERC(val_data)\n",
    "\n",
    "train_dataloader = DataLoader(train_dataset, batch_size=4, shuffle=True)\n",
    "val_dataloader = DataLoader(val_dataset, batch_size=4, shuffle=True)"
   ]
  },
  {
   "cell_type": "code",
   "execution_count": null,
   "metadata": {},
   "outputs": [],
   "source": [
    "model = LSTM_Model_ERC(768, 250, 4).to(device)"
   ]
  },
  {
   "cell_type": "code",
   "execution_count": null,
   "metadata": {},
   "outputs": [],
   "source": [
    "freq_emotion = [0] * 7\n",
    "for conversation in train_data:\n",
    "    for utterance in conversation['conversation']:\n",
    "        freq_emotion[emotion2int[utterance['emotion']]] += 1\n",
    "weight_to_labels = [1 / freq_emotion[i] for i in range(7)]\n",
    "weight_to_labels = torch.tensor(weight_to_labels).to(device) # weight to balance the class. This helps to avoid the model to predict the most frequent class"
   ]
  },
  {
   "cell_type": "code",
   "execution_count": null,
   "metadata": {},
   "outputs": [],
   "source": [
    "criterion = nn.CrossEntropyLoss(weight=weight_to_labels,ignore_index=7) # for ignoring padding token in loss calculation\n",
    "optimizer = AdamW(model.parameters(), lr=1e-4)\n",
    "num_epochs = 100"
   ]
  },
  {
   "cell_type": "code",
   "execution_count": null,
   "metadata": {},
   "outputs": [],
   "source": [
    "best_epoch = -1\n",
    "best_val_loss = 1e9\n",
    "best_train_loss = 1e9\n",
    "best_val_classification_report = None\n",
    "best_train_classification_report = None"
   ]
  },
  {
   "cell_type": "code",
   "execution_count": null,
   "metadata": {},
   "outputs": [],
   "source": [
    "wandb.login()"
   ]
  },
  {
   "cell_type": "code",
   "execution_count": null,
   "metadata": {},
   "outputs": [],
   "source": [
    "wandb.init(\n",
    "    project=\"NLP-Project\",\n",
    "    name=\"LSTM_ERC\",\n",
    "    config={\n",
    "        \"model\": \"LSTM with classificaiton head\",\n",
    "        \"task\": \"ERC\",\n",
    "        \"optimizer\": \"AdamW\",\n",
    "        \"learning_rate\": 1e-4,\n",
    "        \"batch_size\": 4,\n",
    "        \"num_epochs\": 100\n",
    "    }\n",
    ")"
   ]
  },
  {
   "cell_type": "code",
   "execution_count": null,
   "metadata": {},
   "outputs": [],
   "source": [
    "for epoch in (range(num_epochs)):\n",
    "    model.train()\n",
    "    train_loss = 0.0\n",
    "    train_labels_pred, train_labels_true, train_labels_attention_mask = [], [], []\n",
    "    for batch in tqdm(train_dataloader):\n",
    "        texts, emotion_indices, attention_masks = batch['text'].to(device), batch['emotion_labels'].to(device), batch['attention_mask'].to(device)\n",
    "        emotion_logits = model(texts)\n",
    "        emotion_logits = emotion_logits.view(-1, emotion_logits.size(-1))\n",
    "        emotion_indices = emotion_indices.view(-1)\n",
    "        attention_masks = attention_masks.view(-1).float()\n",
    "        loss = criterion(emotion_logits, emotion_indices)\n",
    "        \n",
    "        optimizer.zero_grad()\n",
    "        loss.backward()\n",
    "        optimizer.step()\n",
    "        train_loss += loss.item()\n",
    "        \n",
    "        predicted_emotions = torch.argmax(emotion_logits, dim=1)\n",
    "        train_labels_pred.extend(predicted_emotions.cpu().numpy())\n",
    "        train_labels_true.extend(emotion_indices.cpu().numpy())\n",
    "        train_labels_attention_mask.extend(attention_masks.cpu().numpy())\n",
    "\n",
    "    model.eval()\n",
    "    val_loss = 0.0\n",
    "    val_labels_pred, val_labels_true, val_labels_attention_mask = [], [], []\n",
    "\n",
    "    with torch.no_grad():\n",
    "        for batch in tqdm(val_dataloader):\n",
    "            text, emotion_indices, attention_masks = batch['text'].to(device), batch['emotion_labels'].to(device), batch['attention_mask'].to(device)\n",
    "            emotion_logits = model(text)\n",
    "            emotion_logits = emotion_logits.view(-1, emotion_logits.size(-1))\n",
    "            emotion_indices = emotion_indices.view(-1)\n",
    "\n",
    "            attention_masks = attention_masks.view(-1)   \n",
    "\n",
    "            loss = criterion(emotion_logits, emotion_indices)\n",
    "            \n",
    "            val_loss += loss.item()\n",
    "\n",
    "            predicted_emotions = torch.argmax(emotion_logits, dim=1)\n",
    "            val_labels_pred.extend(predicted_emotions.cpu().numpy())\n",
    "            val_labels_true.extend(emotion_indices.cpu().numpy())\n",
    "            val_labels_attention_mask.extend(attention_masks.cpu().numpy())\n",
    "\n",
    "    val_labels_pred_filtered = [val_labels_pred[i] for i in range(len(val_labels_attention_mask)) if val_labels_attention_mask[i] == 1]\n",
    "    val_labels_true_filtered = [val_labels_true[i] for i in range(len(val_labels_attention_mask)) if val_labels_attention_mask[i] == 1]\n",
    "\n",
    "    train_labels_pred_filtered = [train_labels_pred[i] for i in range(len(train_labels_attention_mask)) if train_labels_attention_mask[i] == 1]\n",
    "    train_labels_true_filtered = [train_labels_true[i] for i in range(len(train_labels_attention_mask)) if train_labels_attention_mask[i] == 1]\n",
    "\n",
    "    train_loss = train_loss / len(train_dataloader)\n",
    "    val_loss = val_loss / len(val_dataloader)\n",
    "\n",
    "    training_classification_rep = classification_report(train_labels_true_filtered, train_labels_pred_filtered, zero_division=0)\n",
    "    validation_classification_rep = classification_report(val_labels_true_filtered, val_labels_pred_filtered, zero_division=0)\n",
    "    \n",
    "    training_classification_rep_dict = classification_report(train_labels_true_filtered, train_labels_pred_filtered, output_dict=True, zero_division=0)\n",
    "    validation_classification_rep_dict = classification_report(val_labels_true_filtered, val_labels_pred_filtered, output_dict=True, zero_division=0)\n",
    "    \n",
    "    wandb.log({\n",
    "        \"Train Loss\": train_loss,\n",
    "        \"Validation Loss\": val_loss,\n",
    "        \"Train Accuracy\": training_classification_rep_dict['accuracy'],\n",
    "        \"Validation Accuracy\": validation_classification_rep_dict['accuracy']\n",
    "    })\n",
    "\n",
    "    print(\"Epoch: \", epoch)\n",
    "    print(f\"Train Loss: {train_loss:.4f} | Validation Loss: {val_loss:.4f}\")\n",
    "    print(\"Training Classification Report: \", training_classification_rep)\n",
    "    print(\"Validation Classification Report: \", validation_classification_rep)\n",
    "\n",
    "    if val_loss < best_val_loss:\n",
    "        best_val_loss = val_loss\n",
    "        best_train_loss = train_loss\n",
    "        best_epoch = epoch\n",
    "        best_val_classification_report = validation_classification_rep\n",
    "        best_train_classification_report = training_classification_rep\n",
    "        torch.save(model, f\"ERC_checkpoints/epoch_{epoch}.pth\")\n",
    "\n",
    "print(\"Best Epoch: \", best_epoch)\n",
    "print(\"Best Validation Accuracy: \", best_val_loss)\n",
    "print(\"Best Training Loss: \", best_train_loss)\n",
    "print(\"Best Validation Classification Report: \", best_val_classification_report)\n",
    "print(\"Best Training Classification Report: \", best_train_classification_report)    "
   ]
  }
 ],
 "metadata": {
  "kernelspec": {
   "display_name": "TECPEC",
   "language": "python",
   "name": "python3"
  },
  "language_info": {
   "codemirror_mode": {
    "name": "ipython",
    "version": 3
   },
   "file_extension": ".py",
   "mimetype": "text/x-python",
   "name": "python",
   "nbconvert_exporter": "python",
   "pygments_lexer": "ipython3",
   "version": "3.12.2"
  }
 },
 "nbformat": 4,
 "nbformat_minor": 2
}
