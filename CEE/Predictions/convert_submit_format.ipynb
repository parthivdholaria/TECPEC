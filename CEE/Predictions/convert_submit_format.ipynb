{
 "cells": [
  {
   "cell_type": "code",
   "execution_count": 1,
   "metadata": {},
   "outputs": [],
   "source": [
    "import json"
   ]
  },
  {
   "cell_type": "code",
   "execution_count": 28,
   "metadata": {},
   "outputs": [],
   "source": [
    "pred = json.load(open(\"BERT/test_cause_pred_bert.json\"))\n",
    "val_dataset = json.load(open(\"D:\\\\Github\\\\NLP-Project-24\\\\Dataset\\\\ERC_conversational_level\\\\test_conversation_level.json\"))"
   ]
  },
  {
   "cell_type": "code",
   "execution_count": 29,
   "metadata": {},
   "outputs": [],
   "source": [
    "for i in range(len(val_dataset)):\n",
    "    val_dataset[i][\"emotion-cause_pairs\"] = []"
   ]
  },
  {
   "cell_type": "code",
   "execution_count": 30,
   "metadata": {},
   "outputs": [],
   "source": [
    "for i in range(len(pred)):\n",
    "    if(pred[i]['answer'][0]==\"empty\"):\n",
    "        continue\n",
    "    id, answer = pred[i]['id'], pred[i]['answer'][0].split()\n",
    "    conversation_ID, target_utterance_ID, evidence_utterance_ID, emotion = id.split(\"_\")\n",
    "    conversation_ID, target_utterance_ID, evidence_utterance_ID = int(conversation_ID), int(target_utterance_ID), int(evidence_utterance_ID)\n",
    "    for j in range(len(val_dataset)):\n",
    "        if(val_dataset[j]['conversation_ID']==conversation_ID):\n",
    "            index = j\n",
    "            break\n",
    "    # print(conversation_ID, index, evidence_utterance_ID)\n",
    "    evidence_utterance = val_dataset[index]['conversation'][evidence_utterance_ID-1]['text'].split(\" \")\n",
    "    for j in range(len(evidence_utterance) - len(answer) + 1):\n",
    "        if(evidence_utterance[j:j+len(answer)]==answer):\n",
    "            start, end = j, j+len(answer)\n",
    "            val_dataset[index]['emotion-cause_pairs'].append(\n",
    "                [\n",
    "                    f\"{target_utterance_ID}_{emotion}\",\n",
    "                    f\"{evidence_utterance_ID}_{start}_{end}\",\n",
    "                ]\n",
    "            )"
   ]
  },
  {
   "cell_type": "code",
   "execution_count": 31,
   "metadata": {},
   "outputs": [],
   "source": [
    "json.dump(val_dataset, open(\"BERT/test_cause_pred_bert_submit.json\", \"w\"))"
   ]
  }
 ],
 "metadata": {
  "kernelspec": {
   "display_name": "TECPEC",
   "language": "python",
   "name": "python3"
  },
  "language_info": {
   "codemirror_mode": {
    "name": "ipython",
    "version": 3
   },
   "file_extension": ".py",
   "mimetype": "text/x-python",
   "name": "python",
   "nbconvert_exporter": "python",
   "pygments_lexer": "ipython3",
   "version": "3.12.2"
  }
 },
 "nbformat": 4,
 "nbformat_minor": 2
}
