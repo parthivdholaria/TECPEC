{
 "cells": [
  {
   "cell_type": "code",
   "execution_count": null,
   "metadata": {},
   "outputs": [],
   "source": [
    "!pip install simpletransformers"
   ]
  },
  {
   "cell_type": "code",
   "execution_count": 9,
   "metadata": {},
   "outputs": [],
   "source": [
    "from simpletransformers.question_answering import QuestionAnsweringModel\n",
    "import json\n",
    "import torch"
   ]
  },
  {
   "cell_type": "code",
   "execution_count": 10,
   "metadata": {},
   "outputs": [],
   "source": [
    "train_data = json.load(open('../Dataset/CEC/train_simple_transformers.json'))\n",
    "val_data = json.load(open('../Dataset/CEC/val_simple_transformers.json'))"
   ]
  },
  {
   "cell_type": "code",
   "execution_count": 4,
   "metadata": {},
   "outputs": [],
   "source": [
    "train_args = {\n",
    "    'fp16': False,\n",
    "    'overwrite_output_dir': True, \n",
    "    'doc_stride': 512, \n",
    "    'max_query_length': 512, \n",
    "    'max_answer_length': 200,\n",
    "    \"max_seq_length\": 512,\n",
    "    'n_best_size': 20,\n",
    "    'null_score_diff_threshold': 0.0,\n",
    "    'learning_rate': 1e-4,\n",
    "    'sliding_window': False,\n",
    "    'output_dir': \"D:\\\\Github\\\\NLP-Project-24\\\\CEC\",\n",
    "    'best_model_dir': \"D:\\\\Github\\\\NLP-Project-24\\\\CEC\" + 'best_model/',\n",
    "    'evaluate_during_training': True,\n",
    "    'evaluate_during_training_steps': int(27915/4),\n",
    "    'save_eval_checkpoints': False,\n",
    "    'save_model_every_epoch': False,\n",
    "    'save_steps': 500000,\n",
    "    'train_batch_size': 4,\n",
    "    'num_train_epochs': 1,\n",
    "}"
   ]
  },
  {
   "cell_type": "code",
   "execution_count": 8,
   "metadata": {},
   "outputs": [
    {
     "data": {
      "text/plain": [
       "device(type='cpu')"
      ]
     },
     "execution_count": 8,
     "metadata": {},
     "output_type": "execute_result"
    }
   ],
   "source": [
    "device = torch.device('cuda' if torch.cuda.is_available() else 'cpu')\n",
    "device"
   ]
  },
  {
   "cell_type": "code",
   "execution_count": null,
   "metadata": {},
   "outputs": [],
   "source": [
    "qa_model = QuestionAnsweringModel('bert', 'mrm8488/spanbert-finetuned-squadv2', args=train_args, use_cuda=True)\n",
    "qa_model.train_model(train_data, eval_data=val_data)"
   ]
  },
  {
   "cell_type": "code",
   "execution_count": null,
   "metadata": {},
   "outputs": [],
   "source": []
  }
 ],
 "metadata": {
  "kernelspec": {
   "display_name": "TECPEC",
   "language": "python",
   "name": "python3"
  },
  "language_info": {
   "codemirror_mode": {
    "name": "ipython",
    "version": 3
   },
   "file_extension": ".py",
   "mimetype": "text/x-python",
   "name": "python",
   "nbconvert_exporter": "python",
   "pygments_lexer": "ipython3",
   "version": "3.12.2"
  }
 },
 "nbformat": 4,
 "nbformat_minor": 2
}
