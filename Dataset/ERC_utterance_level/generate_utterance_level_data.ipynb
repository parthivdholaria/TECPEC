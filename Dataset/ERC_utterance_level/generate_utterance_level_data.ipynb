{
 "cells": [
  {
   "cell_type": "code",
   "execution_count": 1,
   "metadata": {},
   "outputs": [],
   "source": [
    "import json"
   ]
  },
  {
   "cell_type": "code",
   "execution_count": 2,
   "metadata": {},
   "outputs": [],
   "source": [
    "def create_utterance_leve_dataset(data, file_name, emotion_label_present=True):\n",
    "    utterance_level_data = {}\n",
    "    count = 1\n",
    "    for conversation in data:\n",
    "        context = []\n",
    "        for utterance in conversation['conversation']:\n",
    "            conversation_id = conversation['conversation_ID']\n",
    "            utterance_id = utterance['utterance_ID']\n",
    "            speaker = utterance['speaker']\n",
    "            if(emotion_label_present):\n",
    "                emotion = utterance['emotion']\n",
    "            text = utterance['text']\n",
    "            if(emotion_label_present):\n",
    "                utterance_level_data[f\"id_{count}\"] = {'conversation_id': conversation_id, 'utterance_id': utterance_id, 'context': context.copy(), 'text': text, 'speaker': speaker, 'emotion': emotion}\n",
    "            else:\n",
    "                utterance_level_data[f\"id_{count}\"] = {'conversation_id': conversation_id, 'utterance_id': utterance_id, 'context': context.copy(), 'text': text, 'speaker': speaker}\n",
    "            context.append(text)\n",
    "            count += 1\n",
    "            \n",
    "    with open(file_name, 'w') as f:\n",
    "        json.dump(utterance_level_data, f, indent=4)"
   ]
  },
  {
   "cell_type": "code",
   "execution_count": 3,
   "metadata": {},
   "outputs": [],
   "source": [
    "train_data = json.load(open('../train_conversation_level.json'))\n",
    "valid_data = json.load(open('../val_conversation_level.json'))\n",
    "test_data = json.load(open('../test_conversation_level.json'))\n",
    "\n",
    "\n",
    "create_utterance_leve_dataset(train_data, 'train_utterance_level.json')\n",
    "create_utterance_leve_dataset(valid_data, 'val_utterance_level.json')\n",
    "create_utterance_leve_dataset(test_data, 'test_utterance_level.json', emotion_label_present=False)"
   ]
  }
 ],
 "metadata": {
  "kernelspec": {
   "display_name": "TECPEC",
   "language": "python",
   "name": "python3"
  },
  "language_info": {
   "codemirror_mode": {
    "name": "ipython",
    "version": 3
   },
   "file_extension": ".py",
   "mimetype": "text/x-python",
   "name": "python",
   "nbconvert_exporter": "python",
   "pygments_lexer": "ipython3",
   "version": "3.12.2"
  }
 },
 "nbformat": 4,
 "nbformat_minor": 2
}
