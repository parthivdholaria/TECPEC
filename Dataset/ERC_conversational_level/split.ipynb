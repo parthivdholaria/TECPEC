{
 "cells": [
  {
   "cell_type": "code",
   "execution_count": 5,
   "metadata": {},
   "outputs": [],
   "source": [
    "import json"
   ]
  },
  {
   "cell_type": "code",
   "execution_count": 6,
   "metadata": {},
   "outputs": [],
   "source": [
    "train_val_data = json.load(open('../Original_Dataset/Subtask_1_train.json'))\n",
    "test_data = json.load(open('../Original_Dataset/Subtask_1_test.json'))\n",
    "train_data = train_val_data[:int(len(train_val_data)*0.9)]\n",
    "val_data = train_val_data[int(len(train_val_data)*0.9):]"
   ]
  },
  {
   "cell_type": "code",
   "execution_count": 7,
   "metadata": {},
   "outputs": [],
   "source": [
    "json.dump(train_data, open('train_conversation_level.json', 'w'), indent=4)\n",
    "json.dump(val_data, open('val_conversation_level.json', 'w'), indent=4)\n",
    "json.dump(test_data, open('test_conversation_level.json', 'w'), indent=4)"
   ]
  }
 ],
 "metadata": {
  "kernelspec": {
   "display_name": "TECPEC",
   "language": "python",
   "name": "python3"
  },
  "language_info": {
   "codemirror_mode": {
    "name": "ipython",
    "version": 3
   },
   "file_extension": ".py",
   "mimetype": "text/x-python",
   "name": "python",
   "nbconvert_exporter": "python",
   "pygments_lexer": "ipython3",
   "version": "3.12.2"
  }
 },
 "nbformat": 4,
 "nbformat_minor": 2
}
