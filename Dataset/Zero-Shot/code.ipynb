{
 "cells": [
  {
   "cell_type": "code",
   "execution_count": 13,
   "metadata": {},
   "outputs": [],
   "source": [
    "import json\n",
    "import csv"
   ]
  },
  {
   "cell_type": "code",
   "execution_count": 14,
   "metadata": {},
   "outputs": [],
   "source": [
    "val_data = json.load(open('../ERC_conversational_level/val_conversation_level.json'))\n",
    "test_data = json.load(open('../ERC_conversational_level/test_conversation_level.json'))\n",
    "\n",
    "fields_gt = ['conversation_ID', 'Utterance_ID', 'Speaker', 'Utterance', 'Emotion']"
   ]
  },
  {
   "cell_type": "code",
   "execution_count": 15,
   "metadata": {},
   "outputs": [],
   "source": [
    "val_data_csv_gt, val_data_csv = [], []\n",
    "for i in range(len(val_data)):\n",
    "    conversation = val_data[i]['conversation']\n",
    "    conversation_id = val_data[i]['conversation_ID']\n",
    "    for j in range(len(conversation)):\n",
    "        val_data_csv_gt.append([conversation_id, conversation[j]['utterance_ID'], conversation[j]['speaker'], conversation[j]['text'], conversation[j]['emotion']])\n",
    "        val_data_csv.append([conversation_id, conversation[j]['utterance_ID'], conversation[j]['speaker'], conversation[j]['text'], None])"
   ]
  },
  {
   "cell_type": "code",
   "execution_count": 16,
   "metadata": {},
   "outputs": [],
   "source": [
    "test_data_csv = []\n",
    "for i in range(len(test_data)):\n",
    "    conversation = test_data[i]['conversation']\n",
    "    conversation_id = test_data[i]['conversation_ID']\n",
    "    for j in range(len(conversation)):\n",
    "        test_data_csv.append([conversation_id, conversation[j]['utterance_ID'], conversation[j]['speaker'], conversation[j]['text'], None])"
   ]
  },
  {
   "cell_type": "code",
   "execution_count": 17,
   "metadata": {},
   "outputs": [],
   "source": [
    "with open('val_data_gt.csv', 'w') as f:\n",
    "    write = csv.writer(f)\n",
    "    write.writerow(fields_gt)\n",
    "    write.writerows(val_data_csv_gt)\n",
    "\n",
    "with open('val_data.csv', 'w') as f:\n",
    "    write = csv.writer(f)\n",
    "    write.writerow(fields_gt)\n",
    "    write.writerows(val_data_csv)\n",
    "\n",
    "with open('test_data.csv', 'w') as f:\n",
    "    write = csv.writer(f)\n",
    "    write.writerow(fields_gt)\n",
    "    write.writerows(test_data_csv)  "
   ]
  }
 ],
 "metadata": {
  "kernelspec": {
   "display_name": "TECPEC",
   "language": "python",
   "name": "python3"
  },
  "language_info": {
   "codemirror_mode": {
    "name": "ipython",
    "version": 3
   },
   "file_extension": ".py",
   "mimetype": "text/x-python",
   "name": "python",
   "nbconvert_exporter": "python",
   "pygments_lexer": "ipython3",
   "version": "3.12.2"
  }
 },
 "nbformat": 4,
 "nbformat_minor": 2
}
